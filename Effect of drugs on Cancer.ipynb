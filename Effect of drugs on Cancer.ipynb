{
 "cells": [
  {
   "cell_type": "code",
   "execution_count": 27,
   "id": "03dbdb87",
   "metadata": {},
   "outputs": [
    {
     "data": {
      "text/plain": [
       "Product        241\n",
       "EMA            241\n",
       "FDA            241\n",
       "EN             241\n",
       "WHO            241\n",
       "Year           241\n",
       "Generic        241\n",
       "DrugBank ID    241\n",
       "ATC            241\n",
       "ChEMBL         241\n",
       "Indications    241\n",
       "Targets        241\n",
       "Last Update    241\n",
       "dtype: int64"
      ]
     },
     "execution_count": 27,
     "metadata": {},
     "output_type": "execute_result"
    }
   ],
   "source": [
    "import os\n",
    "\n",
    "# Module for reading CSV files\n",
    "import csv\n",
    "import pandas as pd\n",
    "\n",
    "\n",
    "file_one = \"Resources/cancerdrugsdb.txt\"\n",
    "\n",
    "DrugFullDF = pd.read_csv(file_one, delimiter = '\\t' )\n",
    "\n",
    "DrugFullDF = DrugFullDF.drop(['Unnamed: 14','Other'], axis=1)\n",
    "DrugFullDF = DrugFullDF.dropna()\n",
    "\n",
    "DrugFullDF.count()"
   ]
  },
  {
   "cell_type": "code",
   "execution_count": null,
   "id": "11e09d46",
   "metadata": {},
   "outputs": [],
   "source": []
  }
 ],
 "metadata": {
  "kernelspec": {
   "display_name": "Python 3 (ipykernel)",
   "language": "python",
   "name": "python3"
  },
  "language_info": {
   "codemirror_mode": {
    "name": "ipython",
    "version": 3
   },
   "file_extension": ".py",
   "mimetype": "text/x-python",
   "name": "python",
   "nbconvert_exporter": "python",
   "pygments_lexer": "ipython3",
   "version": "3.11.4"
  }
 },
 "nbformat": 4,
 "nbformat_minor": 5
}
