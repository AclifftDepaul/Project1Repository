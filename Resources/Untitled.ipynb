{
 "cells": [
  {
   "cell_type": "code",
   "execution_count": null,
   "id": "7ab2810c",
   "metadata": {},
   "outputs": [],
   "source": [
    "import pandas as pd\n",
    "\n",
    "# Load both datasets\n",
    "pollution_data = pd.read_csv('pollution_data.csv')\n",
    "\n",
    "cancer_data = pd.read_csv('cancer_data.csv')\n",
    "\n",
    "# Merge the datasets based on the 'Country' column\n",
    "merged_data = pd.merge(pollution_data, cancer_data, left_on='Country', right_on='Entity', how='inner')"
   ]
  },
  {
   "cell_type": "code",
   "execution_count": null,
   "id": "12da990c",
   "metadata": {},
   "outputs": [],
   "source": [
    "import matplotlib.pyplot as plt\n",
    "\n",
    "plt.scatter(merged_data['AQI Value'], merged_data['Deaths - Lung cancer'], label='Lung Cancer Deaths')\n",
    "plt.xlabel('AQI Value')\n",
    "plt.ylabel('Deaths - Lung cancer')\n",
    "plt.legend()\n",
    "plt.title('Pollution vs. Lung Cancer Deaths by Country')\n",
    "plt.show()"
   ]
  },
  {
   "cell_type": "code",
   "execution_count": null,
   "id": "1f965751",
   "metadata": {},
   "outputs": [],
   "source": [
    "country_grouped = merged_data.groupby('Country')[['AQI Value', 'Deaths - Lung cancer']].mean()\n",
    "country_grouped.plot(kind='bar', stacked=True)\n",
    "plt.xlabel('Country')\n",
    "plt.ylabel('Average Value')\n",
    "plt.title('Average Pollution vs. Lung Cancer Deaths by Country')\n",
    "plt.show()"
   ]
  },
  {
   "cell_type": "code",
   "execution_count": null,
   "id": "4293c691",
   "metadata": {},
   "outputs": [],
   "source": [
    "import seaborn as sns\n",
    "\n",
    "correlation_matrix = merged_data[['AQI Value', 'Deaths - Lung cancer']].corr()\n",
    "sns.heatmap(correlation_matrix, annot=True)\n",
    "plt.title('Correlation between Pollution and Lung Cancer Deaths')\n",
    "plt.show()"
   ]
  }
 ],
 "metadata": {
  "kernelspec": {
   "display_name": "Python 3 (ipykernel)",
   "language": "python",
   "name": "python3"
  },
  "language_info": {
   "codemirror_mode": {
    "name": "ipython",
    "version": 3
   },
   "file_extension": ".py",
   "mimetype": "text/x-python",
   "name": "python",
   "nbconvert_exporter": "python",
   "pygments_lexer": "ipython3",
   "version": "3.11.4"
  }
 },
 "nbformat": 4,
 "nbformat_minor": 5
}
